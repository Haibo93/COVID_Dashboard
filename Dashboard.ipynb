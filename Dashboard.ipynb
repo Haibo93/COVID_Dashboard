{
 "cells": [
  {
   "cell_type": "markdown",
   "metadata": {},
   "source": [
    "# COVID-19 Dashboard\n",
    "Please find below the COVID-19 Dashboard. <br>\n",
    "Data is taken from [Public Health England](https://www.gov.uk/government/organisations/public-health-england)<br> \n",
    "<br>\n",
    "The button below is able to update the data on demand to the latest data"
   ]
  },
  {
   "cell_type": "code",
   "execution_count": 16,
   "metadata": {},
   "outputs": [],
   "source": [
    "# Importing the COVID API and other required dependencies\n",
    "from uk_covid19 import Cov19API\n",
    "import json\n",
    "def parse_date(datestring):\n",
    "    \"\"\" Convert a date string into a pandas datetime object \"\"\"\n",
    "    return pd.to_datetime(datestring, format=\"%Y-%m-%d\")\n",
    "import pandas as pd\n",
    "import matplotlib.pyplot as plt\n",
    "from IPython.display import clear_output\n",
    "import ipywidgets as wdg\n",
    "%matplotlib inline\n",
    "plt.rcParams['figure.dpi'] = 100\n",
    "def refreshgraph():\n",
    "    dataselect1=wdg.SelectMultiple(\n",
    "        options=['HospitalBeds', 'ITUBeds'],\n",
    "        value=['HospitalBeds', 'ITUBeds'],\n",
    "        rows=1,\n",
    "        description='Stats:',\n",
    "        disabled=False\n",
    "    )\n",
    "    dataselect1=wdg.SelectMultiple(\n",
    "        options=['HospitalBeds', 'ITUBeds'],\n",
    "        value=['HospitalBeds', 'ITUBeds'],\n",
    "        rows=2,\n",
    "        description='Stats:',\n",
    "        disabled=False\n",
    "    )\n",
    "    dataselect=wdg.SelectMultiple(\n",
    "        options=['New COVID Cases', 'Total 1st Dose', 'Total 2nd Dose', 'Total Boosted'],\n",
    "        value=['New COVID Cases', 'Total 1st Dose', 'Total 2nd Dose', 'Total Boosted'],\n",
    "        rows=3,\n",
    "        description='Stats:',\n",
    "        disabled=False\n",
    "    )\n",
    "    dataselect=wdg.SelectMultiple(\n",
    "        options=['New COVID Cases', 'Total 1st Dose', 'Total 2nd Dose', 'Total Boosted'],\n",
    "        value=['New COVID Cases', 'Total 1st Dose', 'Total 2nd Dose', 'Total Boosted'],\n",
    "        rows=4,\n",
    "        description='Stats:',\n",
    "        disabled=False\n",
    "    )\n",
    "    "
   ]
  },
  {
   "cell_type": "code",
   "execution_count": 17,
   "metadata": {},
   "outputs": [],
   "source": [
    "# defining update hospital ITU data\n",
    "def updatehospitu(self):\n",
    "    filters = [\n",
    "        'areaType=overview' # taking data from the whole country\n",
    "    ]\n",
    "    #taking the hospital beds and ITU beds per day\n",
    "    structure = { \n",
    "        \"date\": \"date\",\n",
    "        \"HospitalBeds\": \"hospitalCases\",\n",
    "        \"ITUBeds\" : \"covidOccupiedMVBeds\"\n",
    "    }\n",
    "    api = Cov19API(filters=filters, structure=structure)\n",
    "    hospanditu=api.get_json()\n",
    "    # writing the data out into a JSON file\n",
    "    with open(\"hospanditu.json\", \"wt\") as OUTF:\n",
    "        json.dump(hospanditu, OUTF) \n",
    "    # wrangling the data into out DataFrame\n",
    "    with open(\"hospanditu.json\", \"rt\") as INFILE:\n",
    "        rawdata=json.load(INFILE)\n",
    "    # extracting the dates and getting a start and end date\n",
    "    datalist=rawdata['data']\n",
    "    dates=[dictionary['date'] for dictionary in datalist ]\n",
    "    dates.sort()\n",
    "    startdate=parse_date(dates[0])\n",
    "    enddate=parse_date(dates[-1])\n",
    "    # creating the dataframe filling in any missing dates\n",
    "    index=pd.date_range(startdate, enddate, freq='D')\n",
    "    hospitudf=pd.DataFrame(index=index, columns=['HospitalBeds', 'ITUBeds'])\n",
    "    # Filling the dataframe with data\n",
    "    for entry in datalist:\n",
    "        date=parse_date(entry['date'])\n",
    "        for column in ['HospitalBeds', 'ITUBeds']:\n",
    "            if pd.isna(hospitudf.loc[date, column]): \n",
    "                value= float(entry[column]) if entry[column]!=None else 0.0\n",
    "                hospitudf.loc[date, column]=value\n",
    "    hospitudf.fillna(0.0, inplace=True)\n",
    "    # saving the data into a pickle file\n",
    "    hospitudf.to_pickle(\"hospitudf.pkl\")\n"
   ]
  },
  {
   "cell_type": "code",
   "execution_count": 18,
   "metadata": {},
   "outputs": [
    {
     "data": {
      "application/vnd.jupyter.widget-view+json": {
       "model_id": "b207642be6eb4d5f9259ad5a9eeea561",
       "version_major": 2,
       "version_minor": 0
      },
      "text/plain": [
       "Button(button_style='info', description='Update Graphs', icon='refresh', style=ButtonStyle(), tooltip='Click t…"
      ]
     },
     "metadata": {},
     "output_type": "display_data"
    }
   ],
   "source": [
    "# Creating a button to update data on demand\n",
    "def access_api(button):\n",
    "    # changing the icon and disabling button to show to user something has happened\n",
    "    apibutton.icon=\"sync\"\n",
    "    apibutton.disabled=True\n",
    "    apibutton.description=\"Updating Graph\"\n",
    "    callhospanditu()\n",
    "    datalist=rawdata['data']\n",
    "    dates=[dictionary['date'] for dictionary in datalist ]\n",
    "    dates.sort()\n",
    "    startdate=parse_date(dates[0])\n",
    "    enddate=parse_date(dates[-1])\n",
    "    # creating the dataframe filling in any missing dates\n",
    "    index=pd.date_range(startdate, enddate, freq='D')\n",
    "    hospitudf=pd.DataFrame(index=index, columns=['HospitalBeds', 'ITUBeds'])\n",
    "    # Filling the dataframe with data\n",
    "    for entry in datalist:\n",
    "        date=parse_date(entry['date'])\n",
    "        for column in ['HospitalBeds', 'ITUBeds']:\n",
    "            if pd.isna(hospitudf.loc[date, column]): \n",
    "                value= float(entry[column]) if entry[column]!=None else 0.0\n",
    "                hospitudf.loc[date, column]=value\n",
    "    hospitudf.fillna(0.0, inplace=True)\n",
    "    callcovidandvacc()\n",
    "    datalist=rawdata['data']\n",
    "    dates=[dictionary['date'] for dictionary in datalist ]\n",
    "    dates.sort()\n",
    "    startdate=parse_date(dates[0])\n",
    "    enddate=parse_date(dates[-1])\n",
    "    # creating the dataframe filling in any missing dates\n",
    "    index=pd.date_range(startdate, enddate, freq='D')\n",
    "    COVIDandVacc=pd.DataFrame(index=index, columns=['New COVID Cases', 'Total 1st Dose', 'Total 2nd Dose', 'Total Boosted'])\n",
    "    # Filling the dataframe with data\n",
    "    for entry in datalist:\n",
    "        date=parse_date(entry['date'])\n",
    "        for column in ['New COVID Cases', 'Total 1st Dose', 'Total 2nd Dose', 'Total Boosted']:\n",
    "            if pd.isna(COVIDandVacc.loc[date, column]): \n",
    "                value= float(entry[column]) if entry[column]!=None else 0.0\n",
    "                COVIDandVacc.loc[date, column]=value\n",
    "    COVIDandVacc.fillna(0.0, inplace=True)\n",
    "    # change graph controls:\n",
    "    refreshgraph()\n",
    "    # changing the icon back to how it was before to show user action has finished\n",
    "    apibutton.icon=\"refresh\"\n",
    "    apibutton.disabled=False\n",
    "    apibutton.description=\"Update Graphs\"\n",
    "\n",
    "\n",
    "apibutton=wdg.Button(\n",
    "    description='Update Graphs',\n",
    "    disabled=False,\n",
    "    button_style='info',\n",
    "    tooltip='Click to update with latest PHE data',\n",
    "    icon='refresh'\n",
    ")\n",
    "apibutton.on_click(access_api)\n",
    "\n",
    "display(apibutton)\n"
   ]
  },
  {
   "cell_type": "markdown",
   "metadata": {},
   "source": [
    "The first graph is the graph of hospital beds and ITU beds used by COVID-19 patients over time.\n",
    "Using the box on the left you can select to see either just the hospital beds, the ITU beds or both\n",
    "The box on the right hand side allows you to change from a linear scale to a logarithmic one and vice versa."
   ]
  },
  {
   "cell_type": "code",
   "execution_count": 19,
   "metadata": {},
   "outputs": [],
   "source": [
    "# creating the calling funciton\n",
    "# creating the structure for the API\n",
    "def callhospanditu():\n",
    "    filters = [\n",
    "        'areaType=overview' # taking data from the whole country\n",
    "    ]\n",
    "    #taking the hospital beds and ITU beds per day\n",
    "    structure = { \n",
    "        \"date\": \"date\",\n",
    "        \"HospitalBeds\": \"hospitalCases\",\n",
    "        \"ITUBeds\" : \"covidOccupiedMVBeds\"\n",
    "    }\n",
    "    api = Cov19API(filters=filters, structure=structure)\n",
    "    rawdata=api.get_json()\n",
    "    return rawdata\n",
    "\n",
    "def callcovidandvacc():\n",
    "# creating the structure for the API\n",
    "    filters = [\n",
    "        'areaType=overview' # taking data from the whole country\n",
    "    ]\n",
    "    #taking the COVID cases and cumulative vaccination numbers (had to use publish date as vaccination date stops at March)\n",
    "    structure = { \n",
    "        \"date\": \"date\",\n",
    "        \"New COVID Cases\": \"newCasesByPublishDate\",\n",
    "        \"Total 1st Dose\" : \"cumPeopleVaccinatedFirstDoseByPublishDate\",\n",
    "        \"Total 2nd Dose\":\"cumPeopleVaccinatedSecondDoseByPublishDate\",\n",
    "        \"Total Boosted\":\"cumPeopleVaccinatedThirdInjectionByPublishDate\"\n",
    "    }\n",
    "    api = Cov19API(filters=filters, structure=structure)\n",
    "    rawdata=api.get_json()\n",
    "    return rawdata"
   ]
  },
  {
   "cell_type": "code",
   "execution_count": 20,
   "metadata": {},
   "outputs": [],
   "source": [
    "# wrangling the data into out DataFrame\n",
    "with open(\"hospanditu.json\", \"rt\") as INFILE:\n",
    "    rawdata=json.load(INFILE)\n",
    "# extracting the dates and getting a start and end date\n",
    "datalist=rawdata['data']\n",
    "dates=[dictionary['date'] for dictionary in datalist ]\n",
    "dates.sort()\n",
    "startdate=parse_date(dates[0])\n",
    "enddate=parse_date(dates[-1])\n",
    "\n",
    "# creating the dataframe filling in any missing dates\n",
    "index=pd.date_range(startdate, enddate, freq='D')\n",
    "hospitudf=pd.DataFrame(index=index, columns=['HospitalBeds', 'ITUBeds'])\n",
    "\n",
    "# Filling the dataframe with data\n",
    "for entry in datalist:\n",
    "    date=parse_date(entry['date'])\n",
    "    for column in ['HospitalBeds', 'ITUBeds']:\n",
    "        if pd.isna(hospitudf.loc[date, column]): \n",
    "            value= float(entry[column]) if entry[column]!=None else 0.0\n",
    "            hospitudf.loc[date, column]=value\n",
    "\n",
    "hospitudf.fillna(0.0, inplace=True)\n",
    "\n",
    "# saving the data into a pickle file\n",
    "hospitudf.to_pickle(\"hospitudf.pkl\")\n"
   ]
  },
  {
   "cell_type": "code",
   "execution_count": 21,
   "metadata": {},
   "outputs": [
    {
     "data": {
      "application/vnd.jupyter.widget-view+json": {
       "model_id": "e51cc7717865482a82cd599687f69db0",
       "version_major": 2,
       "version_minor": 0
      },
      "text/plain": [
       "HBox(children=(SelectMultiple(description='Stats:', index=(0, 1), options=('HospitalBeds', 'ITUBeds'), rows=2,…"
      ]
     },
     "metadata": {},
     "output_type": "display_data"
    },
    {
     "data": {
      "application/vnd.jupyter.widget-view+json": {
       "model_id": "2bc5674190294b299791c85ebee80b16",
       "version_major": 2,
       "version_minor": 0
      },
      "text/plain": [
       "Output()"
      ]
     },
     "metadata": {},
     "output_type": "display_data"
    }
   ],
   "source": [
    "# Creating an interactive table:\n",
    "hospitudf=pd.read_pickle(\"hospitudf.pkl\")\n",
    "dataselect1=wdg.SelectMultiple(\n",
    "    options=['HospitalBeds', 'ITUBeds'],\n",
    "    value=['HospitalBeds', 'ITUBeds'],\n",
    "    rows=2,\n",
    "    description='Stats:',\n",
    "    disabled=False\n",
    ")\n",
    "\n",
    "scale=wdg.RadioButtons(\n",
    "    options=['Linear', 'Logarithmic'],\n",
    "    description='Scale:',\n",
    "    disabled=False\n",
    ")\n",
    "\n",
    "controls=wdg.HBox([dataselect1, scale])\n",
    "\n",
    "def hospitu_graph(gcols, gscale):\n",
    "    if gscale=='Linear':\n",
    "        logscale=False\n",
    "    else:\n",
    "        logscale=True\n",
    "    ncols=len(gcols)\n",
    "    if ncols>0:\n",
    "        hospitudf[list(gcols)].plot(logy=logscale)\n",
    "        plt.show() # important - graphs won't update if this is missing \n",
    "    else:\n",
    "        print(\"Click to select data for graph\")\n",
    "        print(\"(CTRL-Click to select more than one category)\")\n",
    "\n",
    "\n",
    "graph=wdg.interactive_output(hospitu_graph, {'gcols': dataselect1, 'gscale': scale})\n",
    "\n",
    "display(controls, graph)\n",
    "\n"
   ]
  },
  {
   "cell_type": "markdown",
   "metadata": {},
   "source": [
    "The second graph is the graph of vaccinations compared to new COVID cases.\n",
    "Using the box on the left you can select to see any of: first, second and booster numbers and COVID cases.\n",
    "The box on the right hand side allows you to change from a linear scale to a logarithmic one and vice versa, however for this we have selected to start on a logarithmic scale to show the effect of the vaccinations on the new cases."
   ]
  },
  {
   "cell_type": "code",
   "execution_count": 22,
   "metadata": {},
   "outputs": [
    {
     "data": {
      "application/vnd.jupyter.widget-view+json": {
       "model_id": "c50e39e70b5b4ceeaa0738ddc229e54d",
       "version_major": 2,
       "version_minor": 0
      },
      "text/plain": [
       "HBox(children=(SelectMultiple(description='Stats:', index=(0, 1, 2, 3), options=('New COVID Cases', 'Total 1st…"
      ]
     },
     "metadata": {},
     "output_type": "display_data"
    },
    {
     "data": {
      "application/vnd.jupyter.widget-view+json": {
       "model_id": "1be99ff32640462b896adb60b52e8d77",
       "version_major": 2,
       "version_minor": 0
      },
      "text/plain": [
       "Output()"
      ]
     },
     "metadata": {},
     "output_type": "display_data"
    }
   ],
   "source": [
    "# Comparing Cases with Vaccination Rates\n",
    "# wrangling the data into out DataFrame\n",
    "with open(\"COVIDandVacc.json\", \"rt\") as INFILE:\n",
    "    rawdata=json.load(INFILE)\n",
    "# extracting the dates and getting a start and end date\n",
    "datalist=rawdata['data']\n",
    "dates=[dictionary['date'] for dictionary in datalist ]\n",
    "dates.sort()\n",
    "startdate=parse_date(dates[0])\n",
    "enddate=parse_date(dates[-1])\n",
    "\n",
    "# creating the dataframe filling in any missing dates\n",
    "index=pd.date_range(startdate, enddate, freq='D')\n",
    "COVIDandVacc=pd.DataFrame(index=index, columns=['New COVID Cases', 'Total 1st Dose', 'Total 2nd Dose', 'Total Boosted'])\n",
    "# Filling the dataframe with data\n",
    "for entry in datalist:\n",
    "    date=parse_date(entry['date'])\n",
    "    for column in ['New COVID Cases', 'Total 1st Dose', 'Total 2nd Dose', 'Total Boosted']:\n",
    "        if pd.isna(COVIDandVacc.loc[date, column]): \n",
    "            value= float(entry[column]) if entry[column]!=None else 0.0\n",
    "            COVIDandVacc.loc[date, column]=value\n",
    "\n",
    "COVIDandVacc.fillna(0.0, inplace=True)\n",
    "# saving the data into a pickle file\n",
    "COVIDandVacc.to_pickle(\"COVIDandVacc.pkl\")\n",
    "\n",
    "\n",
    "# Creating an interactive table:\n",
    "COVIDandVacc_graph=pd.read_pickle(\"COVIDandVacc.pkl\")\n",
    "dataselect=wdg.SelectMultiple(\n",
    "    options=['New COVID Cases', 'Total 1st Dose', 'Total 2nd Dose', 'Total Boosted'],\n",
    "    value=['New COVID Cases', 'Total 1st Dose', 'Total 2nd Dose', 'Total Boosted'],\n",
    "    rows=4,\n",
    "    description='Stats:',\n",
    "    disabled=False\n",
    ")\n",
    "scale=wdg.RadioButtons(\n",
    "    options=['Logarithmic', 'Linear'],\n",
    "    description='Scale:',\n",
    "    disabled=False\n",
    ")\n",
    "controls=wdg.HBox([dataselect, scale])\n",
    "def COVIDandVacc_graph(gcols, gscale):\n",
    "    if gscale=='Linear':\n",
    "        logscale=False\n",
    "    else:\n",
    "        logscale=True\n",
    "    ncols=len(gcols)\n",
    "    if ncols>0:\n",
    "        COVIDandVacc[list(gcols)].plot(logy=logscale)\n",
    "        plt.show() # important - graphs won't update if this is missing \n",
    "    else:\n",
    "        print(\"Click to select data for graph\")\n",
    "        print(\"(CTRL-Click to select more than one category)\")\n",
    "\n",
    "\n",
    "graph=wdg.interactive_output(COVIDandVacc_graph, {'gcols': dataselect, 'gscale': scale})\n",
    "\n",
    "display(controls, graph)\n",
    "\n"
   ]
  },
  {
   "cell_type": "markdown",
   "metadata": {},
   "source": [
    "Haibo Li, 2021.\n",
    "All rights reserved. <br>\n",
    "Based on UK Government [data](https://coronavirus.data.gov.uk) published by [Public Health England](https://coronavirus.data.gov.uk/details/developers-guide)."
   ]
  }
 ],
 "metadata": {
  "interpreter": {
   "hash": "140ee61d98e194ff1aaf3da0a1f4add428c7d46fa0d22cc46cc421dca9ea7af1"
  },
  "kernelspec": {
   "display_name": "Python 3.8.8 64-bit ('base': conda)",
   "language": "python",
   "name": "python3"
  },
  "language_info": {
   "codemirror_mode": {
    "name": "ipython",
    "version": 3
   },
   "file_extension": ".py",
   "mimetype": "text/x-python",
   "name": "python",
   "nbconvert_exporter": "python",
   "pygments_lexer": "ipython3",
   "version": "3.8.8"
  },
  "orig_nbformat": 4
 },
 "nbformat": 4,
 "nbformat_minor": 2
}
