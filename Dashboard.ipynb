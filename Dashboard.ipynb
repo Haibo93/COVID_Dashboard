{
 "cells": [
  {
   "cell_type": "markdown",
   "metadata": {},
   "source": [
    "# COVID-19 Dashboard\n",
    "Please find below the COVID-19 Dashboard.\n",
    "The button below is able to update the data on demand to the latest data\n",
    "The first graph is the graph of hospital beds and ITU beds used by COVID-19 patients over time.\n",
    "Using the box on the left you can select to see either just the hospital beds, the ITU beds or both\n",
    "The box on the right hand side allows you to change from a linear scale to a logarithmic one and vice versa."
   ]
  },
  {
   "cell_type": "code",
   "execution_count": 82,
   "metadata": {},
   "outputs": [],
   "source": [
    "# Importing the COVID API\n",
    "from uk_covid19 import Cov19API\n",
    "import json\n",
    "def parse_date(datestring):\n",
    "    \"\"\" Convert a date string into a pandas datetime object \"\"\"\n",
    "    return pd.to_datetime(datestring, format=\"%Y-%m-%d\")\n",
    "import pandas as pd\n",
    "import matplotlib.pyplot as plt\n",
    "from IPython.display import clear_output\n",
    "import ipywidgets as wdg\n",
    "%matplotlib inline\n",
    "plt.rcParams['figure.dpi'] = 100"
   ]
  },
  {
   "cell_type": "markdown",
   "metadata": {},
   "source": []
  },
  {
   "cell_type": "code",
   "execution_count": 92,
   "metadata": {},
   "outputs": [
    {
     "data": {
      "application/vnd.jupyter.widget-view+json": {
       "model_id": "0349673989994bf6837c6609a172728c",
       "version_major": 2,
       "version_minor": 0
      },
      "text/plain": [
       "Button(button_style='info', description='Update Graphs', icon='refresh', style=ButtonStyle(), tooltip='Click t…"
      ]
     },
     "metadata": {},
     "output_type": "display_data"
    }
   ],
   "source": [
    "# Creating a button to update data on demand\n",
    "def access_api(button):\n",
    "    apibutton.icon=\"check\"\n",
    "    apibutton.disabled=True\n",
    "    \n",
    "\n",
    "apibutton=wdg.Button(\n",
    "    description='Update Graphs',\n",
    "    disabled=False,\n",
    "    button_style='info',\n",
    "    tooltip='Click to update with latest PHE data',\n",
    "    icon='refresh'\n",
    ")\n",
    "apibutton.on_click(access_api)\n",
    "\n",
    "display(apibutton)\n"
   ]
  },
  {
   "cell_type": "code",
   "execution_count": 72,
   "metadata": {},
   "outputs": [],
   "source": [
    "# Comparing Hospital Beds and ITU bed use over time\n",
    "# creating the structure for the API\n",
    "\n",
    "filters = [\n",
    "    'areaType=overview' # taking data from the whole country\n",
    "]\n",
    "#taking the hospital beds and ITU beds per day\n",
    "structure = { \n",
    "    \"date\": \"date\",\n",
    "    \"HospitalBeds\": \"hospitalCases\",\n",
    "    \"ITUBeds\" : \"covidOccupiedMVBeds\"\n",
    "}\n",
    "api = Cov19API(filters=filters, structure=structure)\n",
    "hospanditu=api.get_json()\n",
    "# writing the data out into a JSON file\n",
    "with open(\"hospanditu.json\", \"wt\") as OUTF:\n",
    "    json.dump(hospanditu, OUTF) "
   ]
  },
  {
   "cell_type": "code",
   "execution_count": 81,
   "metadata": {},
   "outputs": [],
   "source": [
    "# wrangling the data into out DataFrame\n",
    "with open(\"hospanditu.json\", \"rt\") as INFILE:\n",
    "    rawdata=json.load(INFILE)\n",
    "# extracting the dates and getting a start and end date\n",
    "datalist=rawdata['data']\n",
    "dates=[dictionary['date'] for dictionary in datalist ]\n",
    "dates.sort()\n",
    "startdate=parse_date(dates[0])\n",
    "enddate=parse_date(dates[-1])\n",
    "\n",
    "# creating the dataframe filling in any missing dates\n",
    "index=pd.date_range(startdate, enddate, freq='D')\n",
    "hospitudf=pd.DataFrame(index=index, columns=['HospitalBeds', 'ITUBeds'])\n",
    "\n",
    "# Filling the dataframe with data\n",
    "for entry in datalist:\n",
    "    date=parse_date(entry['date'])\n",
    "    for column in ['HospitalBeds', 'ITUBeds']:\n",
    "        if pd.isna(hospitudf.loc[date, column]): \n",
    "            value= float(entry[column]) if entry[column]!=None else 0.0\n",
    "            hospitudf.loc[date, column]=value\n",
    "\n",
    "hospitudf.fillna(0.0, inplace=True)\n",
    "\n",
    "# saving the data into a pickle file\n",
    "hospitudf.to_pickle(\"hospitudf.pkl\")\n"
   ]
  },
  {
   "cell_type": "code",
   "execution_count": 94,
   "metadata": {},
   "outputs": [
    {
     "data": {
      "application/vnd.jupyter.widget-view+json": {
       "model_id": "2ebc2cff13404f8b897d88edf49f30df",
       "version_major": 2,
       "version_minor": 0
      },
      "text/plain": [
       "VBox(children=(SelectMultiple(description='Stats:', index=(0, 1), options=('HospitalBeds', 'ITUBeds'), rows=2,…"
      ]
     },
     "metadata": {},
     "output_type": "display_data"
    },
    {
     "data": {
      "application/vnd.jupyter.widget-view+json": {
       "model_id": "e940c61ff44f4e028863906d7e1fc3d5",
       "version_major": 2,
       "version_minor": 0
      },
      "text/plain": [
       "Output()"
      ]
     },
     "metadata": {},
     "output_type": "display_data"
    }
   ],
   "source": [
    "# Creating an interactive table:\n",
    "hospitudf=pd.read_pickle(\"hospitudf.pkl\")\n",
    "dataselect=wdg.SelectMultiple(\n",
    "    options=['HospitalBeds', 'ITUBeds'],\n",
    "    value=['HospitalBeds', 'ITUBeds'],\n",
    "    rows=2,\n",
    "    description='Stats:',\n",
    "    disabled=False\n",
    ")\n",
    "\n",
    "scale=wdg.RadioButtons(\n",
    "    options=['Linear', 'Logarithmic'],\n",
    "    description='Scale:',\n",
    "    disabled=False\n",
    ")\n",
    "\n",
    "controls=wdg.HBox([dataselect, scale])\n",
    "\n",
    "def hospitu_graph(gcols, gscale):\n",
    "    if gscale=='Linear':\n",
    "        logscale=False\n",
    "    else:\n",
    "        logscale=True\n",
    "    ncols=len(gcols)\n",
    "    if ncols>0:\n",
    "        hospitudf[list(gcols)].plot(logy=logscale)\n",
    "        plt.show() # important - graphs won't update if this is missing \n",
    "    else:\n",
    "        print(\"Click to select data for graph\")\n",
    "        print(\"(CTRL-Click to select more than one category)\")\n",
    "\n",
    "\n",
    "graph=wdg.interactive_output(hospitu_graph, {'gcols': dataselect, 'gscale': scale})\n",
    "\n",
    "display(controls, graph)\n",
    "\n"
   ]
  },
  {
   "cell_type": "code",
   "execution_count": null,
   "metadata": {},
   "outputs": [],
   "source": []
  }
 ],
 "metadata": {
  "interpreter": {
   "hash": "140ee61d98e194ff1aaf3da0a1f4add428c7d46fa0d22cc46cc421dca9ea7af1"
  },
  "kernelspec": {
   "display_name": "Python 3.8.8 64-bit ('base': conda)",
   "language": "python",
   "name": "python3"
  },
  "language_info": {
   "codemirror_mode": {
    "name": "ipython",
    "version": 3
   },
   "file_extension": ".py",
   "mimetype": "text/x-python",
   "name": "python",
   "nbconvert_exporter": "python",
   "pygments_lexer": "ipython3",
   "version": "3.8.8"
  },
  "orig_nbformat": 4
 },
 "nbformat": 4,
 "nbformat_minor": 2
}
